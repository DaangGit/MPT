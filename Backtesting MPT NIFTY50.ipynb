{
 "cells": [
  {
   "cell_type": "markdown",
   "id": "48fe163c",
   "metadata": {},
   "source": [
    "# Backtesting MPT"
   ]
  },
  {
   "cell_type": "markdown",
   "id": "f61198f7",
   "metadata": {},
   "source": [
    "# Objective:\n",
    "- Construct Efficient Portfolio using past 1 year's data\n",
    "- Hold for the next six months.\n",
    "- Compare returns with the index."
   ]
  },
  {
   "cell_type": "code",
   "execution_count": 1,
   "id": "80762e06",
   "metadata": {},
   "outputs": [],
   "source": [
    "import yfinance as yf\n",
    "import pandas as pd\n",
    "import numpy as np\n",
    "import datetime as dt\n",
    "import matplotlib.pyplot as plt\n",
    "from scipy.optimize import minimize"
   ]
  },
  {
   "cell_type": "code",
   "execution_count": 2,
   "id": "5c352cd2",
   "metadata": {},
   "outputs": [],
   "source": [
    "tickers = ['ADANIPORTS.NS', 'APOLLOHOSP.NS', 'ASIANPAINT.NS', 'AXISBANK.NS', 'BAJAJ-AUTO.NS', 'BAJFINANCE.NS', 'BAJAJFINSV.NS', 'BHARTIARTL.NS', 'BPCL.NS', 'BRITANNIA.NS', 'CIPLA.NS', 'COALINDIA.NS', 'DIVISLAB.NS', 'DRREDDY.NS', 'EICHERMOT.NS', 'GRASIM.NS', 'HCLTECH.NS', 'HDFC.NS', 'HDFCBANK.NS', 'HDFCLIFE.NS', 'HEROMOTOCO.NS', 'HINDALCO.NS', 'HINDUNILVR.NS', 'ICICIBANK.NS', 'INDUSINDBK.NS', 'INFY.NS', 'ITC.NS', 'JSWSTEEL.NS', 'KOTAKBANK.NS', 'LT.NS', 'M&M.NS', 'MARUTI.NS', 'NESTLEIND.NS', 'NTPC.NS', 'ONGC.NS', 'POWERGRID.NS', 'RELIANCE.NS', 'SBIN.NS', 'SBILIFE.NS', 'SHREECEM.NS', 'SUNPHARMA.NS', 'TATAMOTORS.NS', 'TATASTEEL.NS', 'TCS.NS', 'TATACONSUM.NS', 'TECHM.NS', 'TITAN.NS', 'ULTRACEMCO.NS', 'UPL.NS', 'WIPRO.NS']"
   ]
  },
  {
   "cell_type": "code",
   "execution_count": 3,
   "id": "26cb1526",
   "metadata": {},
   "outputs": [],
   "source": [
    "# RISK FREE RATE ASSUMED TO BE 5% \n",
    "rf = 0.05\n",
    "n = len(tickers)"
   ]
  },
  {
   "cell_type": "markdown",
   "id": "d0554752",
   "metadata": {},
   "source": [
    "### Equity and Index Data"
   ]
  },
  {
   "cell_type": "code",
   "execution_count": 4,
   "id": "d87b02ea",
   "metadata": {},
   "outputs": [
    {
     "name": "stdout",
     "output_type": "stream",
     "text": [
      "[*********************100%***********************]  50 of 50 completed\n",
      "[*********************100%***********************]  1 of 1 completed\n"
     ]
    }
   ],
   "source": [
    "close_data = pd.DataFrame(yf.download(tickers, start = dt.date(2017,12,29), end = dt.date(2022,7,1))['Close'])\n",
    "nifty_close_data = pd.DataFrame(yf.download(\"^NSEI\", start = dt.date(2017,12,29), end = dt.date(2022,7,1))['Close'])\n",
    "return_data = close_data.pct_change()\n",
    "nifty_return_data = nifty_close_data.pct_change()\n",
    "return_data = return_data.iloc[1:, :]\n",
    "nifty_return_data = nifty_return_data.iloc[1:, :]"
   ]
  },
  {
   "cell_type": "code",
   "execution_count": 5,
   "id": "21c83088",
   "metadata": {},
   "outputs": [],
   "source": [
    "dropthese = []\n",
    "for i in return_data.index:\n",
    "    if i not in nifty_return_data.index:\n",
    "        dropthese.append(i)\n",
    "        \n",
    "return_data.drop(dropthese, inplace = True)"
   ]
  },
  {
   "cell_type": "markdown",
   "id": "9ca84b14",
   "metadata": {},
   "source": [
    "### Functions"
   ]
  },
  {
   "cell_type": "code",
   "execution_count": 6,
   "id": "9ea40617",
   "metadata": {},
   "outputs": [],
   "source": [
    "# Random Weights\n",
    "def random_weights(n):\n",
    "    # n is number of components\n",
    "    w = np.random.random((n,1))\n",
    "    w /= np.sum(w)\n",
    "    return w\n",
    "\n",
    "# Checking Sum of Weights to be One\n",
    "def checkSumToOne(w):\n",
    "    return np.sum(w)-1\n",
    "\n",
    "# Portfolio Return\n",
    "# Define returns array before calling this function\n",
    "def exp_pret(w):\n",
    "    pret = w.T @ ret\n",
    "    pret = pret.sum()\n",
    "    return pret\n",
    "\n",
    "# Portfolio Risk\n",
    "# Define covariance matrix before calling this function\n",
    "def exp_prisk(w):\n",
    "    prisk = np.sqrt(((w.T @ var) @ w).sum())\n",
    "    return prisk\n",
    "\n",
    "# Calculating Negative Sharpe Ratio\n",
    "# Define returns array before calling this function\n",
    "# Define covariance matrix before calling this function\n",
    "def negSharpe(w):\n",
    "    return -1*((exp_pret(w)-rf)/exp_prisk(w))"
   ]
  },
  {
   "cell_type": "markdown",
   "id": "b393b27d",
   "metadata": {},
   "source": [
    "## Time Periods\n",
    "- Train is the time period of historical data using which the portfolio is constructed.\n",
    "- Test is the holding period used to calculate returns.\n",
    "- Period is the time period after which the portfolio is rebalanced."
   ]
  },
  {
   "cell_type": "code",
   "execution_count": 7,
   "id": "288c7d0c",
   "metadata": {},
   "outputs": [],
   "source": [
    "train = 252\n",
    "test = 126\n",
    "period = 21"
   ]
  },
  {
   "cell_type": "markdown",
   "id": "b807bf4d",
   "metadata": {},
   "source": [
    "## Backtesting Loop"
   ]
  },
  {
   "cell_type": "code",
   "execution_count": 8,
   "id": "5b4f1aba",
   "metadata": {},
   "outputs": [],
   "source": [
    "results = []\n",
    "start = 0\n",
    "end = start + train\n",
    "test_start = end\n",
    "test_end = test_start + test\n",
    "\n",
    "while test_end <= nifty_return_data.shape[0]:\n",
    "    ####################################################################################################\n",
    "    # Dates\n",
    "    end = start + train\n",
    "    test_start = end\n",
    "    test_end = test_start + test\n",
    "    ####################################################################################################\n",
    "    # Datasets\n",
    "    returndata = return_data.iloc[start:end, :]\n",
    "    test_returndata = return_data.iloc[test_start:test_end, :]\n",
    "    test_nifty_returndata = nifty_return_data.iloc[test_start:test_end, :]\n",
    "    ####################################################################################################\n",
    "    # Annualized Returns\n",
    "    annrets = pd.DataFrame(index = [0])\n",
    "    for i in tickers:\n",
    "        k = returndata.loc[:,i].mean()\n",
    "        annrets[i] = (1+k)**train - 1\n",
    "    # annrets\n",
    "    ####################################################################################################\n",
    "    # Annualized Variance-Covariance Matrix\n",
    "    annvar = returndata.cov() * train\n",
    "    # annvar\n",
    "    ####################################################################################################\n",
    "    # Returns and Variance-Covariance Matrix as nparrays\n",
    "    ret = annrets.to_numpy().reshape((n,1))\n",
    "    var = annvar.to_numpy()\n",
    "    ####################################################################################################\n",
    "    # # Minimizing Negative Sharpe Ratio (Setup)\n",
    "\n",
    "    # Random Weights\n",
    "    w0 = random_weights(n)\n",
    "\n",
    "    # Weights' Bounds\n",
    "    bounds = []\n",
    "    for i in tickers:\n",
    "        bounds.append((0,1))\n",
    "    bounds = tuple(bounds)\n",
    "\n",
    "    # Problem Constraints\n",
    "    constraints = ({'type':'eq', 'fun':checkSumToOne})\n",
    "    ####################################################################################################\n",
    "    # Max Sharpe Ratio Weights\n",
    "    maxsharpeweights = minimize(negSharpe,w0,method = 'SLSQP', bounds = bounds, constraints = constraints).x.round(4).reshape((50,1))\n",
    "    ####################################################################################################\n",
    "    # Min Variance Weights\n",
    "    minvarweights = minimize(exp_prisk,w0,method = 'SLSQP', bounds = bounds, constraints = constraints).x.round(4).reshape((50,1))\n",
    "    ####################################################################################################\n",
    "    # Testing Performance\n",
    "    ms_port_value = (test_returndata.to_numpy()@maxsharpeweights+1).cumprod()[-1]\n",
    "    mv_port_value = (test_returndata.to_numpy()@minvarweights+1).cumprod()[-1]\n",
    "    nifty_value = (test_nifty_returndata.to_numpy()+1).cumprod()[-1]\n",
    "    ####################################################################################################\n",
    "    results.append({'Start Date': returndata.index[0],\n",
    "                    'End Date': returndata.index[-1],\n",
    "                    'Test Start Date': test_returndata.index[0],\n",
    "                    'Test End Date': test_returndata.index[-1],\n",
    "                    'MS Value': ms_port_value,\n",
    "                    'MV Value': mv_port_value,\n",
    "                    'Index Value': nifty_value,\n",
    "                    'MS Difference': ms_port_value - nifty_value,\n",
    "                    'MV Difference': mv_port_value - nifty_value})\n",
    "    \n",
    "    # print(ms_port_value, mv_port_value, nifty_value, ms_port_value - nifty_value, mv_port_value - nifty_value)\n",
    "    ####################################################################################################\n",
    "    # print(start)\n",
    "    start += period"
   ]
  },
  {
   "cell_type": "markdown",
   "id": "ff98a694",
   "metadata": {},
   "source": [
    "## Results DataFrame"
   ]
  },
  {
   "cell_type": "code",
   "execution_count": 9,
   "id": "e6cda4aa",
   "metadata": {},
   "outputs": [],
   "source": [
    "results = pd.DataFrame(results)"
   ]
  },
  {
   "cell_type": "markdown",
   "id": "a042bf2e",
   "metadata": {},
   "source": [
    "### % of times when Max Sharpe Ratio Portfolio beat market returns."
   ]
  },
  {
   "cell_type": "code",
   "execution_count": 10,
   "id": "6211bb77",
   "metadata": {},
   "outputs": [
    {
     "data": {
      "text/plain": [
       "52.78"
      ]
     },
     "execution_count": 10,
     "metadata": {},
     "output_type": "execute_result"
    }
   ],
   "source": [
    "round((np.where(results['MS Difference']>0,1,0).sum()/len(results['MS Difference']))*100, 2)"
   ]
  },
  {
   "cell_type": "markdown",
   "id": "6f267b3b",
   "metadata": {},
   "source": [
    "### % of times when Min Var Portfolio beat market returns."
   ]
  },
  {
   "cell_type": "code",
   "execution_count": 11,
   "id": "258a304c",
   "metadata": {},
   "outputs": [
    {
     "data": {
      "text/plain": [
       "47.22"
      ]
     },
     "execution_count": 11,
     "metadata": {},
     "output_type": "execute_result"
    }
   ],
   "source": [
    "round((np.where(results['MV Difference']>0,1,0).sum()/len(results['MV Difference']))*100, 2)"
   ]
  },
  {
   "cell_type": "markdown",
   "id": "4d0e40d2",
   "metadata": {},
   "source": [
    "## Plots"
   ]
  },
  {
   "cell_type": "code",
   "execution_count": 12,
   "id": "41c829cf",
   "metadata": {},
   "outputs": [
    {
     "data": {
      "image/png": "[encoded data removed]",
      "text/plain": [
       "<Figure size 432x288 with 1 Axes>"
      ]
     },
     "metadata": {
      "needs_background": "light"
     },
     "output_type": "display_data"
    }
   ],
   "source": [
    "diff = np.where(results['MS Difference']>0, 'g','r')\n",
    "plt.bar(x = results.index, height = results['MS Difference'], color = diff)\n",
    "plt.xlabel(\"Excess Return\")\n",
    "plt.ylabel('Periods')\n",
    "plt.title(\"Max Sharpe Ratio Portfolio Excess Returns\")\n",
    "plt.show()"
   ]
  },
  {
   "cell_type": "code",
   "execution_count": 13,
   "id": "8269fea6",
   "metadata": {},
   "outputs": [
    {
     "data": {
      "image/png": "[encoded data removed]",
      "text/plain": [
       "<Figure size 432x288 with 1 Axes>"
      ]
     },
     "metadata": {
      "needs_background": "light"
     },
     "output_type": "display_data"
    }
   ],
   "source": [
    "diff = np.where(results['MV Difference']>0, 'g','r')\n",
    "plt.bar(x = results.index, height = results['MV Difference'], color = diff)\n",
    "plt.xlabel(\"Excess Return\")\n",
    "plt.ylabel('Periods')\n",
    "plt.title(\"Min Var Portfolio Excess Returns\")\n",
    "plt.show()"
   ]
  },
  {
   "cell_type": "markdown",
   "id": "acc2f2fe",
   "metadata": {},
   "source": [
    "# Fin."
   ]
  }
 ],
 "metadata": {
  "kernelspec": {
   "display_name": "Python 3 (ipykernel)",
   "language": "python",
   "name": "python3"
  },
  "language_info": {
   "codemirror_mode": {
    "name": "ipython",
    "version": 3
   },
   "file_extension": ".py",
   "mimetype": "text/x-python",
   "name": "python",
   "nbconvert_exporter": "python",
   "pygments_lexer": "ipython3",
   "version": "3.9.7"
  }
 },
 "nbformat": 4,
 "nbformat_minor": 5
}
